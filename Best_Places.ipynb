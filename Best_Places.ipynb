{
 "cells": [
  {
   "cell_type": "markdown",
   "metadata": {},
   "source": [
    "## Mapping **U.S. News & World Report**'s\n",
    "## [_125 Best Places to Live in the USA_](https://realestate.usnews.com/places/rankings/best-places-to-live)"
   ]
  },
  {
   "cell_type": "markdown",
   "metadata": {},
   "source": [
    "If you would like to review their [methodology:](https://realestate.usnews.com/places/methodology)\n",
    ">U.S. News & World Report's Best Places to Live rankings are intended to help readers make the most informed decision when choosing where to settle down. The metro areas included in the rankings are evaluated using data from trusted sources like the United States Census Bureau, the Federal Bureau of Investigation, the Department of Labor and U.S. News' own internal resources. This data was categorized into the five indexes listed below and then evaluated using a methodology determined by Americans' preferences. The percent weighting for each index follows the answers from a public survey in which people from across the country voted for what they believed was the most important thing to consider when thinking about moving. "
   ]
  },
  {
   "cell_type": "markdown",
   "metadata": {},
   "source": [
    "### Let's get started:"
   ]
  },
  {
   "cell_type": "code",
   "execution_count": 1,
   "metadata": {},
   "outputs": [
    {
     "name": "stderr",
     "output_type": "stream",
     "text": [
      "/anaconda3/lib/python3.6/site-packages/distributed/config.py:63: YAMLLoadWarning: calling yaml.load() without Loader=... is deprecated, as the default Loader is unsafe. Please read https://msg.pyyaml.org/load for full details.\n",
      "  config.update(yaml.load(text) or {})\n"
     ]
    }
   ],
   "source": [
    "from ipyleaflet import Map, GeoData, basemaps, LayersControl, FullScreenControl, DrawControl, Heatmap, CircleMarker, ScaleControl, ZoomControl, Marker, Popup\n",
    "from ipywidgets import HTML\n",
    "\n",
    "import geopandas\n",
    "import pandas as pd\n",
    "import json\n",
    "import random\n",
    "from random import uniform\n"
   ]
  },
  {
   "cell_type": "markdown",
   "metadata": {},
   "source": [
    "#### To ensure we are up and running, let's plot the example given from [ipyleaflet's GeoData](https://ipyleaflet.readthedocs.io/en/latest/api_reference/geodata.html#example):"
   ]
  },
  {
   "cell_type": "code",
   "execution_count": 2,
   "metadata": {},
   "outputs": [
    {
     "data": {
      "application/vnd.jupyter.widget-view+json": {
       "model_id": "1102895dbc9e47cb9fb9bc2cb7a16468",
       "version_major": 2,
       "version_minor": 0
      },
      "text/plain": [
       "Map(center=[52.3, 8.0], controls=(ZoomControl(options=['position', 'zoom_in_text', 'zoom_in_title', 'zoom_out_…"
      ]
     },
     "metadata": {},
     "output_type": "display_data"
    }
   ],
   "source": [
    "countries = geopandas.read_file(geopandas.datasets.get_path('naturalearth_lowres'))\n",
    "rivers = geopandas.read_file(\"https://www.naturalearthdata.com/http//www.naturalearthdata.com/download/10m/physical/ne_10m_rivers_lake_centerlines.zip\")\n",
    "\n",
    "m = Map(center=(52.3,8.0), zoom = 3, basemap= basemaps.Esri.WorldTopoMap)\n",
    "\n",
    "geo_data = GeoData(geo_dataframe = countries,\n",
    "                   style={'color': 'black', 'fillColor': '#3366cc', 'opacity':0.05, 'weight':1.9, 'dashArray':'2', 'fillOpacity':0.6},\n",
    "                   hover_style={'fillColor': 'red' , 'fillOpacity': 0.2},\n",
    "                   name = 'Countries')\n",
    "\n",
    "rivers_data = GeoData(geo_dataframe = rivers,\n",
    "                   style={'color': 'purple', 'opacity':3, 'weight':1.9, 'dashArray':'2', 'fillOpacity':0.6},\n",
    "                   hover_style={'fillColor': 'red' , 'fillOpacity': 0.2},\n",
    "                   name = 'Rivers')\n",
    "\n",
    "m.add_layer(rivers_data)\n",
    "m.add_layer(geo_data)\n",
    "m.add_control(LayersControl())\n",
    "\n",
    "m"
   ]
  },
  {
   "cell_type": "markdown",
   "metadata": {},
   "source": [
    "Now that we have confirmed we can plot the example, let's try a small map of our own:"
   ]
  },
  {
   "cell_type": "code",
   "execution_count": 3,
   "metadata": {},
   "outputs": [
    {
     "data": {
      "application/vnd.jupyter.widget-view+json": {
       "model_id": "526ea1690d6c4129b8b5496adaec0b99",
       "version_major": 2,
       "version_minor": 0
      },
      "text/plain": [
       "Map(center=[40, -90], controls=(ZoomControl(options=['position', 'zoom_in_text', 'zoom_in_title', 'zoom_out_te…"
      ]
     },
     "metadata": {},
     "output_type": "display_data"
    }
   ],
   "source": [
    "Map(center=[ 40, -90], zoom = 3)"
   ]
  },
  {
   "cell_type": "markdown",
   "metadata": {},
   "source": [
    "### Import Data\n",
    "Next, let's import some the US News Data, along with some City coordinates.\n",
    "This is done locally for now, with sources. We could work on pulling these from the web at a later date."
   ]
  },
  {
   "cell_type": "code",
   "execution_count": 4,
   "metadata": {},
   "outputs": [],
   "source": [
    "BASE = \"/Users/kl023465/OneDrive - Rockhurst University/6313 GIS/Final/data/\""
   ]
  },
  {
   "cell_type": "markdown",
   "metadata": {},
   "source": [
    "#### Data Sources:\n",
    "* [best-places-to-live](https://realestate.usnews.com/places/rankings/best-places-to-live)\n",
    "* [1000-largest-us-cities-by-population-with-geographic-coordinates](https://public.opendatasoft.com/explore/embed/dataset/1000-largest-us-cities-by-population-with-geographic-coordinates/)\n",
    "* [naturalearthdata features](https://www.naturalearthdata.com/features/)"
   ]
  },
  {
   "cell_type": "code",
   "execution_count": 5,
   "metadata": {},
   "outputs": [],
   "source": [
    "# Best Places To Live\n",
    "USNEWS = pd.read_csv(BASE + \"cities.csv\", sep = \";\")\n",
    "\n",
    "# Some Coordinate Data\n",
    "cities = geopandas.read_file(BASE + \"1000-largest-us-cities-by-population-with-geographic-coordinates.geojson\")\n",
    "\n",
    "# Natural Earth Features\n",
    "states = geopandas.read_file(BASE + \"ne_50m_admin_1_states_provinces/ne_50m_admin_1_states_provinces.shp\")\n",
    "rivers = geopandas.read_file(BASE + \"ne_50m_rivers_lake_centerlines/ne_50m_rivers_lake_centerlines.shp\")\n",
    "lakes = geopandas.read_file(BASE + \"ne_50m_lakes/ne_50m_lakes.shp\")\n",
    "airport = geopandas.read_file(BASE + \"ne_50m_airports/ne_50m_airports.shp\")\n",
    "coastline = geopandas.read_file(BASE + \"ne_50m_coastline/ne_50m_coastline.shp\")\n"
   ]
  },
  {
   "cell_type": "markdown",
   "metadata": {},
   "source": [
    "Let's preview what the data set looks like:"
   ]
  },
  {
   "cell_type": "code",
   "execution_count": 6,
   "metadata": {},
   "outputs": [
    {
     "data": {
      "text/html": [
       "<div>\n",
       "<style scoped>\n",
       "    .dataframe tbody tr th:only-of-type {\n",
       "        vertical-align: middle;\n",
       "    }\n",
       "\n",
       "    .dataframe tbody tr th {\n",
       "        vertical-align: top;\n",
       "    }\n",
       "\n",
       "    .dataframe thead th {\n",
       "        text-align: right;\n",
       "    }\n",
       "</style>\n",
       "<table border=\"1\" class=\"dataframe\">\n",
       "  <thead>\n",
       "    <tr style=\"text-align: right;\">\n",
       "      <th></th>\n",
       "      <th>City</th>\n",
       "      <th>State</th>\n",
       "      <th>US News Rank</th>\n",
       "      <th>Text</th>\n",
       "      <th>Overall Score</th>\n",
       "      <th>Quality of Life</th>\n",
       "      <th>Value</th>\n",
       "    </tr>\n",
       "  </thead>\n",
       "  <tbody>\n",
       "    <tr>\n",
       "      <th>0</th>\n",
       "      <td>Austin</td>\n",
       "      <td>TX</td>\n",
       "      <td>1</td>\n",
       "      <td>People are drawn to the Texas capital's music,...</td>\n",
       "      <td>7.6</td>\n",
       "      <td>7.3</td>\n",
       "      <td>6.7</td>\n",
       "    </tr>\n",
       "    <tr>\n",
       "      <th>1</th>\n",
       "      <td>Denver</td>\n",
       "      <td>CO</td>\n",
       "      <td>2</td>\n",
       "      <td>Founded in the mid-1800s as a mining hub durin...</td>\n",
       "      <td>7.4</td>\n",
       "      <td>7.0</td>\n",
       "      <td>6.7</td>\n",
       "    </tr>\n",
       "    <tr>\n",
       "      <th>2</th>\n",
       "      <td>Colorado Springs</td>\n",
       "      <td>CO</td>\n",
       "      <td>3</td>\n",
       "      <td>Colorado Springs might not jump off the map as...</td>\n",
       "      <td>7.4</td>\n",
       "      <td>7.0</td>\n",
       "      <td>6.6</td>\n",
       "    </tr>\n",
       "    <tr>\n",
       "      <th>3</th>\n",
       "      <td>Fayetteville</td>\n",
       "      <td>AR</td>\n",
       "      <td>4</td>\n",
       "      <td>Located in a region that's experiencing drasti...</td>\n",
       "      <td>7.3</td>\n",
       "      <td>7.5</td>\n",
       "      <td>8.2</td>\n",
       "    </tr>\n",
       "    <tr>\n",
       "      <th>4</th>\n",
       "      <td>Des Moines</td>\n",
       "      <td>IA</td>\n",
       "      <td>5</td>\n",
       "      <td>The capital of this so-called flyover state ma...</td>\n",
       "      <td>7.3</td>\n",
       "      <td>7.0</td>\n",
       "      <td>8.4</td>\n",
       "    </tr>\n",
       "  </tbody>\n",
       "</table>\n",
       "</div>"
      ],
      "text/plain": [
       "               City State  US News Rank  \\\n",
       "0            Austin    TX             1   \n",
       "1            Denver    CO             2   \n",
       "2  Colorado Springs    CO             3   \n",
       "3      Fayetteville    AR             4   \n",
       "4        Des Moines    IA             5   \n",
       "\n",
       "                                                Text  Overall Score  \\\n",
       "0  People are drawn to the Texas capital's music,...            7.6   \n",
       "1  Founded in the mid-1800s as a mining hub durin...            7.4   \n",
       "2  Colorado Springs might not jump off the map as...            7.4   \n",
       "3  Located in a region that's experiencing drasti...            7.3   \n",
       "4  The capital of this so-called flyover state ma...            7.3   \n",
       "\n",
       "   Quality of Life  Value  \n",
       "0              7.3    6.7  \n",
       "1              7.0    6.7  \n",
       "2              7.0    6.6  \n",
       "3              7.5    8.2  \n",
       "4              7.0    8.4  "
      ]
     },
     "execution_count": 6,
     "metadata": {},
     "output_type": "execute_result"
    }
   ],
   "source": [
    "USNEWS.head()"
   ]
  },
  {
   "cell_type": "code",
   "execution_count": 7,
   "metadata": {},
   "outputs": [
    {
     "data": {
      "text/plain": [
       "City               125\n",
       "State              125\n",
       "US News Rank       125\n",
       "Text               125\n",
       "Overall Score      125\n",
       "Quality of Life    125\n",
       "Value              125\n",
       "dtype: int64"
      ]
     },
     "execution_count": 7,
     "metadata": {},
     "output_type": "execute_result"
    }
   ],
   "source": [
    "USNEWS.count()"
   ]
  },
  {
   "cell_type": "code",
   "execution_count": 8,
   "metadata": {},
   "outputs": [
    {
     "data": {
      "text/html": [
       "<div>\n",
       "<style scoped>\n",
       "    .dataframe tbody tr th:only-of-type {\n",
       "        vertical-align: middle;\n",
       "    }\n",
       "\n",
       "    .dataframe tbody tr th {\n",
       "        vertical-align: top;\n",
       "    }\n",
       "\n",
       "    .dataframe thead th {\n",
       "        text-align: right;\n",
       "    }\n",
       "</style>\n",
       "<table border=\"1\" class=\"dataframe\">\n",
       "  <thead>\n",
       "    <tr style=\"text-align: right;\">\n",
       "      <th></th>\n",
       "      <th>city</th>\n",
       "      <th>rank</th>\n",
       "      <th>state</th>\n",
       "      <th>growth_from_2000_to_2013</th>\n",
       "      <th>population</th>\n",
       "      <th>geometry</th>\n",
       "    </tr>\n",
       "  </thead>\n",
       "  <tbody>\n",
       "    <tr>\n",
       "      <th>0</th>\n",
       "      <td>Marysville</td>\n",
       "      <td>552</td>\n",
       "      <td>Washington</td>\n",
       "      <td>115.7</td>\n",
       "      <td>63269</td>\n",
       "      <td>POINT (-122.17708 48.05176)</td>\n",
       "    </tr>\n",
       "    <tr>\n",
       "      <th>1</th>\n",
       "      <td>Perris</td>\n",
       "      <td>466</td>\n",
       "      <td>California</td>\n",
       "      <td>98.7</td>\n",
       "      <td>72326</td>\n",
       "      <td>POINT (-117.22865 33.78252)</td>\n",
       "    </tr>\n",
       "    <tr>\n",
       "      <th>2</th>\n",
       "      <td>Cleveland</td>\n",
       "      <td>48</td>\n",
       "      <td>Ohio</td>\n",
       "      <td>-18.1</td>\n",
       "      <td>390113</td>\n",
       "      <td>POINT (-81.69436 41.49932)</td>\n",
       "    </tr>\n",
       "    <tr>\n",
       "      <th>3</th>\n",
       "      <td>Worcester</td>\n",
       "      <td>129</td>\n",
       "      <td>Massachusetts</td>\n",
       "      <td>5.8</td>\n",
       "      <td>182544</td>\n",
       "      <td>POINT (-71.80229 42.26259)</td>\n",
       "    </tr>\n",
       "    <tr>\n",
       "      <th>4</th>\n",
       "      <td>Columbia</td>\n",
       "      <td>192</td>\n",
       "      <td>South Carolina</td>\n",
       "      <td>11.7</td>\n",
       "      <td>133358</td>\n",
       "      <td>POINT (-81.03481 34.00071)</td>\n",
       "    </tr>\n",
       "  </tbody>\n",
       "</table>\n",
       "</div>"
      ],
      "text/plain": [
       "         city  rank           state  growth_from_2000_to_2013  population  \\\n",
       "0  Marysville   552      Washington                     115.7       63269   \n",
       "1      Perris   466      California                      98.7       72326   \n",
       "2   Cleveland    48            Ohio                     -18.1      390113   \n",
       "3   Worcester   129   Massachusetts                       5.8      182544   \n",
       "4    Columbia   192  South Carolina                      11.7      133358   \n",
       "\n",
       "                      geometry  \n",
       "0  POINT (-122.17708 48.05176)  \n",
       "1  POINT (-117.22865 33.78252)  \n",
       "2   POINT (-81.69436 41.49932)  \n",
       "3   POINT (-71.80229 42.26259)  \n",
       "4   POINT (-81.03481 34.00071)  "
      ]
     },
     "execution_count": 8,
     "metadata": {},
     "output_type": "execute_result"
    }
   ],
   "source": [
    "cities.head()"
   ]
  },
  {
   "cell_type": "markdown",
   "metadata": {},
   "source": [
    "Check the CRS being used by the data set:"
   ]
  },
  {
   "cell_type": "code",
   "execution_count": 9,
   "metadata": {},
   "outputs": [
    {
     "data": {
      "text/plain": [
       "{'init': 'epsg:4326'}"
      ]
     },
     "execution_count": 9,
     "metadata": {},
     "output_type": "execute_result"
    }
   ],
   "source": [
    "cities.crs"
   ]
  },
  {
   "cell_type": "markdown",
   "metadata": {},
   "source": [
    "### Data Manipulation:"
   ]
  },
  {
   "cell_type": "code",
   "execution_count": 10,
   "metadata": {},
   "outputs": [],
   "source": [
    "#From: https://gist.githubusercontent.com/tlancon/9794920a0c3a9990279de704f936050c/raw/dd7f7db501af25287a0daeaf3d90185a695d85ea/us_states_dict.py\n",
    "us_states = {\n",
    "  'Alabama':'AL','Alaska':'AK','Arizona':'AZ','Arkansas':'AR','California':'CA','Colorado':'CO','Connecticut':'CT','Delaware':'DE','District of Columbia':'DC','Florida':'FL','Georgia':'GA','Hawaii':'HI','Idaho':'ID','Illinois':'IL','Indiana':'IN','Iowa':'IA','Kansas':'KS','Kentucky':'KY','Louisiana':'LA','Maine':'ME','Maryland':'MD','Massachusetts':'MA','Michigan':'MI','Minnesota':'MN','Mississippi':'MS','Missouri':'MO','Montana':'MT','Nebraska':'NE','Nevada':'NV','New Hampshire':'NH','New Jersey':'NJ','New Mexico':'NM','New York':'NY','North Carolina':'NC','North Dakota':'ND','Ohio':'OH','Oklahoma':'OK','Oregon':'OR','Pennsylvania':'PA','Rhode Island':'RI','South Carolina':'SC','South Dakota':'SD','Tennessee':'TN','Texas':'TX','Utah':'UT','Vermont':'VT','Virginia':'VA','Washington':'WA','West Virginia':'WV','Wisconsin':'WI','Wyoming':'WY'\n",
    "}"
   ]
  },
  {
   "cell_type": "code",
   "execution_count": 11,
   "metadata": {},
   "outputs": [],
   "source": [
    "cities[\"state_code\"] = cities[\"state\"].map(us_states)"
   ]
  },
  {
   "cell_type": "code",
   "execution_count": 12,
   "metadata": {},
   "outputs": [
    {
     "data": {
      "text/plain": [
       "0         Marysville-WA\n",
       "1             Perris-CA\n",
       "2          Cleveland-OH\n",
       "3          Worcester-MA\n",
       "4           Columbia-SC\n",
       "             ...       \n",
       "995    Santa Barbara-CA\n",
       "996          Addison-IL\n",
       "997       Rio Rancho-NM\n",
       "998           Normal-IL\n",
       "999       Romeoville-IL\n",
       "Name: city_key, Length: 1000, dtype: object"
      ]
     },
     "execution_count": 12,
     "metadata": {},
     "output_type": "execute_result"
    }
   ],
   "source": [
    "cities[\"city_key\"] = cities[\"city\"] + \"-\" + cities[\"state_code\"]\n",
    "cities[\"city_key\"]"
   ]
  },
  {
   "cell_type": "code",
   "execution_count": 13,
   "metadata": {},
   "outputs": [
    {
     "data": {
      "text/html": [
       "<div>\n",
       "<style scoped>\n",
       "    .dataframe tbody tr th:only-of-type {\n",
       "        vertical-align: middle;\n",
       "    }\n",
       "\n",
       "    .dataframe tbody tr th {\n",
       "        vertical-align: top;\n",
       "    }\n",
       "\n",
       "    .dataframe thead th {\n",
       "        text-align: right;\n",
       "    }\n",
       "</style>\n",
       "<table border=\"1\" class=\"dataframe\">\n",
       "  <thead>\n",
       "    <tr style=\"text-align: right;\">\n",
       "      <th></th>\n",
       "      <th>city</th>\n",
       "      <th>rank</th>\n",
       "      <th>state</th>\n",
       "      <th>growth_from_2000_to_2013</th>\n",
       "      <th>population</th>\n",
       "      <th>geometry</th>\n",
       "      <th>state_code</th>\n",
       "      <th>city_key</th>\n",
       "    </tr>\n",
       "  </thead>\n",
       "  <tbody>\n",
       "    <tr>\n",
       "      <th>0</th>\n",
       "      <td>Marysville</td>\n",
       "      <td>552</td>\n",
       "      <td>Washington</td>\n",
       "      <td>115.7</td>\n",
       "      <td>63269</td>\n",
       "      <td>POINT (-122.17708 48.05176)</td>\n",
       "      <td>WA</td>\n",
       "      <td>Marysville-WA</td>\n",
       "    </tr>\n",
       "    <tr>\n",
       "      <th>1</th>\n",
       "      <td>Perris</td>\n",
       "      <td>466</td>\n",
       "      <td>California</td>\n",
       "      <td>98.7</td>\n",
       "      <td>72326</td>\n",
       "      <td>POINT (-117.22865 33.78252)</td>\n",
       "      <td>CA</td>\n",
       "      <td>Perris-CA</td>\n",
       "    </tr>\n",
       "    <tr>\n",
       "      <th>2</th>\n",
       "      <td>Cleveland</td>\n",
       "      <td>48</td>\n",
       "      <td>Ohio</td>\n",
       "      <td>-18.1</td>\n",
       "      <td>390113</td>\n",
       "      <td>POINT (-81.69436 41.49932)</td>\n",
       "      <td>OH</td>\n",
       "      <td>Cleveland-OH</td>\n",
       "    </tr>\n",
       "    <tr>\n",
       "      <th>3</th>\n",
       "      <td>Worcester</td>\n",
       "      <td>129</td>\n",
       "      <td>Massachusetts</td>\n",
       "      <td>5.8</td>\n",
       "      <td>182544</td>\n",
       "      <td>POINT (-71.80229 42.26259)</td>\n",
       "      <td>MA</td>\n",
       "      <td>Worcester-MA</td>\n",
       "    </tr>\n",
       "    <tr>\n",
       "      <th>4</th>\n",
       "      <td>Columbia</td>\n",
       "      <td>192</td>\n",
       "      <td>South Carolina</td>\n",
       "      <td>11.7</td>\n",
       "      <td>133358</td>\n",
       "      <td>POINT (-81.03481 34.00071)</td>\n",
       "      <td>SC</td>\n",
       "      <td>Columbia-SC</td>\n",
       "    </tr>\n",
       "  </tbody>\n",
       "</table>\n",
       "</div>"
      ],
      "text/plain": [
       "         city  rank           state  growth_from_2000_to_2013  population  \\\n",
       "0  Marysville   552      Washington                     115.7       63269   \n",
       "1      Perris   466      California                      98.7       72326   \n",
       "2   Cleveland    48            Ohio                     -18.1      390113   \n",
       "3   Worcester   129   Massachusetts                       5.8      182544   \n",
       "4    Columbia   192  South Carolina                      11.7      133358   \n",
       "\n",
       "                      geometry state_code       city_key  \n",
       "0  POINT (-122.17708 48.05176)         WA  Marysville-WA  \n",
       "1  POINT (-117.22865 33.78252)         CA      Perris-CA  \n",
       "2   POINT (-81.69436 41.49932)         OH   Cleveland-OH  \n",
       "3   POINT (-71.80229 42.26259)         MA   Worcester-MA  \n",
       "4   POINT (-81.03481 34.00071)         SC    Columbia-SC  "
      ]
     },
     "execution_count": 13,
     "metadata": {},
     "output_type": "execute_result"
    }
   ],
   "source": [
    "cities.head()"
   ]
  },
  {
   "cell_type": "code",
   "execution_count": 14,
   "metadata": {},
   "outputs": [],
   "source": [
    "USNEWS[\"city_key\"] = USNEWS[\"City\"] + \"-\"+ USNEWS[\"State\"]"
   ]
  },
  {
   "cell_type": "code",
   "execution_count": 15,
   "metadata": {},
   "outputs": [
    {
     "data": {
      "text/html": [
       "<div>\n",
       "<style scoped>\n",
       "    .dataframe tbody tr th:only-of-type {\n",
       "        vertical-align: middle;\n",
       "    }\n",
       "\n",
       "    .dataframe tbody tr th {\n",
       "        vertical-align: top;\n",
       "    }\n",
       "\n",
       "    .dataframe thead th {\n",
       "        text-align: right;\n",
       "    }\n",
       "</style>\n",
       "<table border=\"1\" class=\"dataframe\">\n",
       "  <thead>\n",
       "    <tr style=\"text-align: right;\">\n",
       "      <th></th>\n",
       "      <th>City</th>\n",
       "      <th>State</th>\n",
       "      <th>US News Rank</th>\n",
       "      <th>Text</th>\n",
       "      <th>Overall Score</th>\n",
       "      <th>Quality of Life</th>\n",
       "      <th>Value</th>\n",
       "      <th>city_key</th>\n",
       "    </tr>\n",
       "  </thead>\n",
       "  <tbody>\n",
       "    <tr>\n",
       "      <th>0</th>\n",
       "      <td>Austin</td>\n",
       "      <td>TX</td>\n",
       "      <td>1</td>\n",
       "      <td>People are drawn to the Texas capital's music,...</td>\n",
       "      <td>7.6</td>\n",
       "      <td>7.3</td>\n",
       "      <td>6.7</td>\n",
       "      <td>Austin-TX</td>\n",
       "    </tr>\n",
       "    <tr>\n",
       "      <th>1</th>\n",
       "      <td>Denver</td>\n",
       "      <td>CO</td>\n",
       "      <td>2</td>\n",
       "      <td>Founded in the mid-1800s as a mining hub durin...</td>\n",
       "      <td>7.4</td>\n",
       "      <td>7.0</td>\n",
       "      <td>6.7</td>\n",
       "      <td>Denver-CO</td>\n",
       "    </tr>\n",
       "    <tr>\n",
       "      <th>2</th>\n",
       "      <td>Colorado Springs</td>\n",
       "      <td>CO</td>\n",
       "      <td>3</td>\n",
       "      <td>Colorado Springs might not jump off the map as...</td>\n",
       "      <td>7.4</td>\n",
       "      <td>7.0</td>\n",
       "      <td>6.6</td>\n",
       "      <td>Colorado Springs-CO</td>\n",
       "    </tr>\n",
       "    <tr>\n",
       "      <th>3</th>\n",
       "      <td>Fayetteville</td>\n",
       "      <td>AR</td>\n",
       "      <td>4</td>\n",
       "      <td>Located in a region that's experiencing drasti...</td>\n",
       "      <td>7.3</td>\n",
       "      <td>7.5</td>\n",
       "      <td>8.2</td>\n",
       "      <td>Fayetteville-AR</td>\n",
       "    </tr>\n",
       "    <tr>\n",
       "      <th>4</th>\n",
       "      <td>Des Moines</td>\n",
       "      <td>IA</td>\n",
       "      <td>5</td>\n",
       "      <td>The capital of this so-called flyover state ma...</td>\n",
       "      <td>7.3</td>\n",
       "      <td>7.0</td>\n",
       "      <td>8.4</td>\n",
       "      <td>Des Moines-IA</td>\n",
       "    </tr>\n",
       "  </tbody>\n",
       "</table>\n",
       "</div>"
      ],
      "text/plain": [
       "               City State  US News Rank  \\\n",
       "0            Austin    TX             1   \n",
       "1            Denver    CO             2   \n",
       "2  Colorado Springs    CO             3   \n",
       "3      Fayetteville    AR             4   \n",
       "4        Des Moines    IA             5   \n",
       "\n",
       "                                                Text  Overall Score  \\\n",
       "0  People are drawn to the Texas capital's music,...            7.6   \n",
       "1  Founded in the mid-1800s as a mining hub durin...            7.4   \n",
       "2  Colorado Springs might not jump off the map as...            7.4   \n",
       "3  Located in a region that's experiencing drasti...            7.3   \n",
       "4  The capital of this so-called flyover state ma...            7.3   \n",
       "\n",
       "   Quality of Life  Value             city_key  \n",
       "0              7.3    6.7            Austin-TX  \n",
       "1              7.0    6.7            Denver-CO  \n",
       "2              7.0    6.6  Colorado Springs-CO  \n",
       "3              7.5    8.2      Fayetteville-AR  \n",
       "4              7.0    8.4        Des Moines-IA  "
      ]
     },
     "execution_count": 15,
     "metadata": {},
     "output_type": "execute_result"
    }
   ],
   "source": [
    "USNEWS.head()"
   ]
  },
  {
   "cell_type": "code",
   "execution_count": 16,
   "metadata": {},
   "outputs": [],
   "source": [
    "cities_joined = cities.merge(USNEWS, how = 'right', on=['city_key'])"
   ]
  },
  {
   "cell_type": "code",
   "execution_count": 17,
   "metadata": {},
   "outputs": [
    {
     "data": {
      "text/plain": [
       "geopandas.geodataframe.GeoDataFrame"
      ]
     },
     "execution_count": 17,
     "metadata": {},
     "output_type": "execute_result"
    }
   ],
   "source": [
    "type(cities_joined)"
   ]
  },
  {
   "cell_type": "code",
   "execution_count": 18,
   "metadata": {},
   "outputs": [
    {
     "data": {
      "text/plain": [
       "pandas.core.frame.DataFrame"
      ]
     },
     "execution_count": 18,
     "metadata": {},
     "output_type": "execute_result"
    }
   ],
   "source": [
    "type(USNEWS)"
   ]
  },
  {
   "cell_type": "code",
   "execution_count": 19,
   "metadata": {
    "scrolled": true
   },
   "outputs": [
    {
     "data": {
      "text/html": [
       "<div>\n",
       "<style scoped>\n",
       "    .dataframe tbody tr th:only-of-type {\n",
       "        vertical-align: middle;\n",
       "    }\n",
       "\n",
       "    .dataframe tbody tr th {\n",
       "        vertical-align: top;\n",
       "    }\n",
       "\n",
       "    .dataframe thead th {\n",
       "        text-align: right;\n",
       "    }\n",
       "</style>\n",
       "<table border=\"1\" class=\"dataframe\">\n",
       "  <thead>\n",
       "    <tr style=\"text-align: right;\">\n",
       "      <th></th>\n",
       "      <th>city</th>\n",
       "      <th>rank</th>\n",
       "      <th>state</th>\n",
       "      <th>growth_from_2000_to_2013</th>\n",
       "      <th>population</th>\n",
       "      <th>geometry</th>\n",
       "      <th>state_code</th>\n",
       "      <th>city_key</th>\n",
       "      <th>City</th>\n",
       "      <th>State</th>\n",
       "      <th>US News Rank</th>\n",
       "      <th>Text</th>\n",
       "      <th>Overall Score</th>\n",
       "      <th>Quality of Life</th>\n",
       "      <th>Value</th>\n",
       "    </tr>\n",
       "  </thead>\n",
       "  <tbody>\n",
       "    <tr>\n",
       "      <th>0</th>\n",
       "      <td>Cleveland</td>\n",
       "      <td>48.0</td>\n",
       "      <td>Ohio</td>\n",
       "      <td>-18.1</td>\n",
       "      <td>390113.0</td>\n",
       "      <td>POINT (-81.69436 41.49932)</td>\n",
       "      <td>OH</td>\n",
       "      <td>Cleveland-OH</td>\n",
       "      <td>Cleveland</td>\n",
       "      <td>OH</td>\n",
       "      <td>85</td>\n",
       "      <td>Once a haven for immigrants and a powerhouse o...</td>\n",
       "      <td>6.3</td>\n",
       "      <td>6.1</td>\n",
       "      <td>7.4</td>\n",
       "    </tr>\n",
       "    <tr>\n",
       "      <th>1</th>\n",
       "      <td>Worcester</td>\n",
       "      <td>129.0</td>\n",
       "      <td>Massachusetts</td>\n",
       "      <td>5.8</td>\n",
       "      <td>182544.0</td>\n",
       "      <td>POINT (-71.80229 42.26259)</td>\n",
       "      <td>MA</td>\n",
       "      <td>Worcester-MA</td>\n",
       "      <td>Worcester</td>\n",
       "      <td>MA</td>\n",
       "      <td>62</td>\n",
       "      <td>A vibrant and diverse community nicknamed The ...</td>\n",
       "      <td>6.5</td>\n",
       "      <td>7.0</td>\n",
       "      <td>6.5</td>\n",
       "    </tr>\n",
       "    <tr>\n",
       "      <th>2</th>\n",
       "      <td>Columbia</td>\n",
       "      <td>192.0</td>\n",
       "      <td>South Carolina</td>\n",
       "      <td>11.7</td>\n",
       "      <td>133358.0</td>\n",
       "      <td>POINT (-81.03481 34.00071)</td>\n",
       "      <td>SC</td>\n",
       "      <td>Columbia-SC</td>\n",
       "      <td>Columbia</td>\n",
       "      <td>SC</td>\n",
       "      <td>67</td>\n",
       "      <td>Columbia, South Carolina, is a traditionally S...</td>\n",
       "      <td>6.5</td>\n",
       "      <td>6.1</td>\n",
       "      <td>7.2</td>\n",
       "    </tr>\n",
       "    <tr>\n",
       "      <th>3</th>\n",
       "      <td>Lafayette</td>\n",
       "      <td>214.0</td>\n",
       "      <td>Louisiana</td>\n",
       "      <td>11.0</td>\n",
       "      <td>124276.0</td>\n",
       "      <td>POINT (-92.01984 30.22409)</td>\n",
       "      <td>LA</td>\n",
       "      <td>Lafayette-LA</td>\n",
       "      <td>Lafayette</td>\n",
       "      <td>LA</td>\n",
       "      <td>96</td>\n",
       "      <td>In 2014, Lafayette was named the happiest city...</td>\n",
       "      <td>6.2</td>\n",
       "      <td>5.4</td>\n",
       "      <td>8.1</td>\n",
       "    </tr>\n",
       "    <tr>\n",
       "      <th>4</th>\n",
       "      <td>Boise City</td>\n",
       "      <td>98.0</td>\n",
       "      <td>Idaho</td>\n",
       "      <td>9.5</td>\n",
       "      <td>214237.0</td>\n",
       "      <td>POINT (-116.21461 43.61871)</td>\n",
       "      <td>ID</td>\n",
       "      <td>Boise City-ID</td>\n",
       "      <td>Boise City</td>\n",
       "      <td>ID</td>\n",
       "      <td>17</td>\n",
       "      <td>Boise is a recreationalist's paradise. If you ...</td>\n",
       "      <td>7.1</td>\n",
       "      <td>7.2</td>\n",
       "      <td>7.1</td>\n",
       "    </tr>\n",
       "    <tr>\n",
       "      <th>...</th>\n",
       "      <td>...</td>\n",
       "      <td>...</td>\n",
       "      <td>...</td>\n",
       "      <td>...</td>\n",
       "      <td>...</td>\n",
       "      <td>...</td>\n",
       "      <td>...</td>\n",
       "      <td>...</td>\n",
       "      <td>...</td>\n",
       "      <td>...</td>\n",
       "      <td>...</td>\n",
       "      <td>...</td>\n",
       "      <td>...</td>\n",
       "      <td>...</td>\n",
       "      <td>...</td>\n",
       "    </tr>\n",
       "    <tr>\n",
       "      <th>120</th>\n",
       "      <td>Santa Barbara</td>\n",
       "      <td>339.0</td>\n",
       "      <td>California</td>\n",
       "      <td>0.9</td>\n",
       "      <td>90412.0</td>\n",
       "      <td>POINT (-119.69819 34.42083)</td>\n",
       "      <td>CA</td>\n",
       "      <td>Santa Barbara-CA</td>\n",
       "      <td>Santa Barbara</td>\n",
       "      <td>CA</td>\n",
       "      <td>73</td>\n",
       "      <td>It has been described as the \"American Riviera...</td>\n",
       "      <td>6.5</td>\n",
       "      <td>7.8</td>\n",
       "      <td>3.7</td>\n",
       "    </tr>\n",
       "    <tr>\n",
       "      <th>121</th>\n",
       "      <td>NaN</td>\n",
       "      <td>NaN</td>\n",
       "      <td>NaN</td>\n",
       "      <td>NaN</td>\n",
       "      <td>NaN</td>\n",
       "      <td>None</td>\n",
       "      <td>NaN</td>\n",
       "      <td>Lexington-KY</td>\n",
       "      <td>Lexington</td>\n",
       "      <td>KY</td>\n",
       "      <td>29</td>\n",
       "      <td>Lexington blends influences from the South and...</td>\n",
       "      <td>6.9</td>\n",
       "      <td>6.9</td>\n",
       "      <td>7.7</td>\n",
       "    </tr>\n",
       "    <tr>\n",
       "      <th>122</th>\n",
       "      <td>NaN</td>\n",
       "      <td>NaN</td>\n",
       "      <td>NaN</td>\n",
       "      <td>NaN</td>\n",
       "      <td>NaN</td>\n",
       "      <td>None</td>\n",
       "      <td>NaN</td>\n",
       "      <td>Augusta-GA</td>\n",
       "      <td>Augusta</td>\n",
       "      <td>GA</td>\n",
       "      <td>72</td>\n",
       "      <td>Located near the South Carolina border, August...</td>\n",
       "      <td>6.5</td>\n",
       "      <td>6.4</td>\n",
       "      <td>7.1</td>\n",
       "    </tr>\n",
       "    <tr>\n",
       "      <th>123</th>\n",
       "      <td>NaN</td>\n",
       "      <td>NaN</td>\n",
       "      <td>NaN</td>\n",
       "      <td>NaN</td>\n",
       "      <td>NaN</td>\n",
       "      <td>None</td>\n",
       "      <td>NaN</td>\n",
       "      <td>Myrtle Beach-SC</td>\n",
       "      <td>Myrtle Beach</td>\n",
       "      <td>SC</td>\n",
       "      <td>75</td>\n",
       "      <td>Although it's better known to outsiders as a v...</td>\n",
       "      <td>6.4</td>\n",
       "      <td>6.4</td>\n",
       "      <td>5.6</td>\n",
       "    </tr>\n",
       "    <tr>\n",
       "      <th>124</th>\n",
       "      <td>NaN</td>\n",
       "      <td>NaN</td>\n",
       "      <td>NaN</td>\n",
       "      <td>NaN</td>\n",
       "      <td>NaN</td>\n",
       "      <td>None</td>\n",
       "      <td>NaN</td>\n",
       "      <td>San Juan-PR</td>\n",
       "      <td>San Juan</td>\n",
       "      <td>PR</td>\n",
       "      <td>125</td>\n",
       "      <td>Formally established in 1521, San Juan is the ...</td>\n",
       "      <td>3.2</td>\n",
       "      <td>2.8</td>\n",
       "      <td>2.5</td>\n",
       "    </tr>\n",
       "  </tbody>\n",
       "</table>\n",
       "<p>125 rows × 15 columns</p>\n",
       "</div>"
      ],
      "text/plain": [
       "              city   rank           state  growth_from_2000_to_2013  \\\n",
       "0        Cleveland   48.0            Ohio                     -18.1   \n",
       "1        Worcester  129.0   Massachusetts                       5.8   \n",
       "2         Columbia  192.0  South Carolina                      11.7   \n",
       "3        Lafayette  214.0       Louisiana                      11.0   \n",
       "4       Boise City   98.0           Idaho                       9.5   \n",
       "..             ...    ...             ...                       ...   \n",
       "120  Santa Barbara  339.0      California                       0.9   \n",
       "121            NaN    NaN             NaN                       NaN   \n",
       "122            NaN    NaN             NaN                       NaN   \n",
       "123            NaN    NaN             NaN                       NaN   \n",
       "124            NaN    NaN             NaN                       NaN   \n",
       "\n",
       "     population                     geometry state_code          city_key  \\\n",
       "0      390113.0   POINT (-81.69436 41.49932)         OH      Cleveland-OH   \n",
       "1      182544.0   POINT (-71.80229 42.26259)         MA      Worcester-MA   \n",
       "2      133358.0   POINT (-81.03481 34.00071)         SC       Columbia-SC   \n",
       "3      124276.0   POINT (-92.01984 30.22409)         LA      Lafayette-LA   \n",
       "4      214237.0  POINT (-116.21461 43.61871)         ID     Boise City-ID   \n",
       "..          ...                          ...        ...               ...   \n",
       "120     90412.0  POINT (-119.69819 34.42083)         CA  Santa Barbara-CA   \n",
       "121         NaN                         None        NaN      Lexington-KY   \n",
       "122         NaN                         None        NaN        Augusta-GA   \n",
       "123         NaN                         None        NaN   Myrtle Beach-SC   \n",
       "124         NaN                         None        NaN       San Juan-PR   \n",
       "\n",
       "              City State  US News Rank  \\\n",
       "0        Cleveland    OH            85   \n",
       "1        Worcester    MA            62   \n",
       "2         Columbia    SC            67   \n",
       "3        Lafayette    LA            96   \n",
       "4       Boise City    ID            17   \n",
       "..             ...   ...           ...   \n",
       "120  Santa Barbara    CA            73   \n",
       "121      Lexington    KY            29   \n",
       "122        Augusta    GA            72   \n",
       "123   Myrtle Beach    SC            75   \n",
       "124       San Juan    PR           125   \n",
       "\n",
       "                                                  Text  Overall Score  \\\n",
       "0    Once a haven for immigrants and a powerhouse o...            6.3   \n",
       "1    A vibrant and diverse community nicknamed The ...            6.5   \n",
       "2    Columbia, South Carolina, is a traditionally S...            6.5   \n",
       "3    In 2014, Lafayette was named the happiest city...            6.2   \n",
       "4    Boise is a recreationalist's paradise. If you ...            7.1   \n",
       "..                                                 ...            ...   \n",
       "120  It has been described as the \"American Riviera...            6.5   \n",
       "121  Lexington blends influences from the South and...            6.9   \n",
       "122  Located near the South Carolina border, August...            6.5   \n",
       "123  Although it's better known to outsiders as a v...            6.4   \n",
       "124  Formally established in 1521, San Juan is the ...            3.2   \n",
       "\n",
       "     Quality of Life  Value  \n",
       "0                6.1    7.4  \n",
       "1                7.0    6.5  \n",
       "2                6.1    7.2  \n",
       "3                5.4    8.1  \n",
       "4                7.2    7.1  \n",
       "..               ...    ...  \n",
       "120              7.8    3.7  \n",
       "121              6.9    7.7  \n",
       "122              6.4    7.1  \n",
       "123              6.4    5.6  \n",
       "124              2.8    2.5  \n",
       "\n",
       "[125 rows x 15 columns]"
      ]
     },
     "execution_count": 19,
     "metadata": {},
     "output_type": "execute_result"
    }
   ],
   "source": [
    "cities_joined"
   ]
  },
  {
   "cell_type": "code",
   "execution_count": 20,
   "metadata": {},
   "outputs": [
    {
     "data": {
      "text/plain": [
       "{'init': 'epsg:4326'}"
      ]
     },
     "execution_count": 20,
     "metadata": {},
     "output_type": "execute_result"
    }
   ],
   "source": [
    "cities_joined[\"geometry\"].crs"
   ]
  },
  {
   "cell_type": "code",
   "execution_count": 21,
   "metadata": {},
   "outputs": [
    {
     "data": {
      "text/plain": [
       "geopandas.geoseries.GeoSeries"
      ]
     },
     "execution_count": 21,
     "metadata": {},
     "output_type": "execute_result"
    }
   ],
   "source": [
    "type(cities_joined[\"geometry\"])"
   ]
  },
  {
   "cell_type": "code",
   "execution_count": 22,
   "metadata": {},
   "outputs": [
    {
     "data": {
      "text/plain": [
       "0     POINT (-81.69436 41.49932)\n",
       "1     POINT (-71.80229 42.26259)\n",
       "2     POINT (-81.03481 34.00071)\n",
       "3     POINT (-92.01984 30.22409)\n",
       "4    POINT (-116.21461 43.61871)\n",
       "Name: geometry, dtype: geometry"
      ]
     },
     "execution_count": 22,
     "metadata": {},
     "output_type": "execute_result"
    }
   ],
   "source": [
    "cities_joined[\"geometry\"].head()"
   ]
  },
  {
   "cell_type": "markdown",
   "metadata": {},
   "source": [
    "###  Calculate Minimum Distance to Lakes, Rivers, Coast"
   ]
  },
  {
   "cell_type": "code",
   "execution_count": 23,
   "metadata": {},
   "outputs": [],
   "source": [
    "# Have to drop 4 straglers at this time: Agusta, Lexington, Myrtle Beach, & San Juan\n",
    "cities_joined = cities_joined[:121]"
   ]
  },
  {
   "cell_type": "markdown",
   "metadata": {},
   "source": [
    "#### Lets Give a Scaled Value for features near our points:"
   ]
  },
  {
   "cell_type": "code",
   "execution_count": 24,
   "metadata": {},
   "outputs": [
    {
     "data": {
      "text/plain": [
       "0.022174903909946996"
      ]
     },
     "execution_count": 24,
     "metadata": {},
     "output_type": "execute_result"
    }
   ],
   "source": [
    "cities_joined[\"geometry\"][0].distance(lakes.geometry[4])"
   ]
  },
  {
   "cell_type": "code",
   "execution_count": 25,
   "metadata": {},
   "outputs": [
    {
     "data": {
      "text/plain": [
       "geopandas.geodataframe.GeoDataFrame"
      ]
     },
     "execution_count": 25,
     "metadata": {},
     "output_type": "execute_result"
    }
   ],
   "source": [
    "type(lakes)"
   ]
  },
  {
   "cell_type": "markdown",
   "metadata": {},
   "source": [
    "#### Calculate Minimum Distance to Features"
   ]
  },
  {
   "cell_type": "code",
   "execution_count": 26,
   "metadata": {},
   "outputs": [
    {
     "name": "stderr",
     "output_type": "stream",
     "text": [
      "/anaconda3/lib/python3.6/site-packages/ipykernel_launcher.py:5: SettingWithCopyWarning: \n",
      "A value is trying to be set on a copy of a slice from a DataFrame.\n",
      "Try using .loc[row_indexer,col_indexer] = value instead\n",
      "\n",
      "See the caveats in the documentation: https://pandas.pydata.org/pandas-docs/stable/user_guide/indexing.html#returning-a-view-versus-a-copy\n",
      "  \"\"\"\n",
      "/anaconda3/lib/python3.6/site-packages/ipykernel_launcher.py:6: SettingWithCopyWarning: \n",
      "A value is trying to be set on a copy of a slice from a DataFrame.\n",
      "Try using .loc[row_indexer,col_indexer] = value instead\n",
      "\n",
      "See the caveats in the documentation: https://pandas.pydata.org/pandas-docs/stable/user_guide/indexing.html#returning-a-view-versus-a-copy\n",
      "  \n",
      "/anaconda3/lib/python3.6/site-packages/ipykernel_launcher.py:7: SettingWithCopyWarning: \n",
      "A value is trying to be set on a copy of a slice from a DataFrame.\n",
      "Try using .loc[row_indexer,col_indexer] = value instead\n",
      "\n",
      "See the caveats in the documentation: https://pandas.pydata.org/pandas-docs/stable/user_guide/indexing.html#returning-a-view-versus-a-copy\n",
      "  import sys\n"
     ]
    }
   ],
   "source": [
    "# https://stackoverflow.com/questions/30740046/calculate-distance-to-nearest-feature-with-geopandas?rq=1\n",
    "def min_distance(point, lines):\n",
    "    return lines.distance(point).min()\n",
    "\n",
    "cities_joined['min_dist_to_rivers'] = cities_joined.geometry.apply(min_distance, args=(rivers,))\n",
    "cities_joined['min_dist_to_coasts'] = cities_joined.geometry.apply(min_distance, args=(coastline,))\n",
    "cities_joined['min_dist_to_lakes'] = cities_joined.geometry.apply(min_distance, args=(lakes,))\n"
   ]
  },
  {
   "cell_type": "code",
   "execution_count": 27,
   "metadata": {},
   "outputs": [
    {
     "data": {
      "text/html": [
       "<div>\n",
       "<style scoped>\n",
       "    .dataframe tbody tr th:only-of-type {\n",
       "        vertical-align: middle;\n",
       "    }\n",
       "\n",
       "    .dataframe tbody tr th {\n",
       "        vertical-align: top;\n",
       "    }\n",
       "\n",
       "    .dataframe thead th {\n",
       "        text-align: right;\n",
       "    }\n",
       "</style>\n",
       "<table border=\"1\" class=\"dataframe\">\n",
       "  <thead>\n",
       "    <tr style=\"text-align: right;\">\n",
       "      <th></th>\n",
       "      <th>city</th>\n",
       "      <th>rank</th>\n",
       "      <th>state</th>\n",
       "      <th>growth_from_2000_to_2013</th>\n",
       "      <th>population</th>\n",
       "      <th>geometry</th>\n",
       "      <th>state_code</th>\n",
       "      <th>city_key</th>\n",
       "      <th>City</th>\n",
       "      <th>State</th>\n",
       "      <th>US News Rank</th>\n",
       "      <th>Text</th>\n",
       "      <th>Overall Score</th>\n",
       "      <th>Quality of Life</th>\n",
       "      <th>Value</th>\n",
       "      <th>min_dist_to_rivers</th>\n",
       "      <th>min_dist_to_coasts</th>\n",
       "      <th>min_dist_to_lakes</th>\n",
       "    </tr>\n",
       "  </thead>\n",
       "  <tbody>\n",
       "    <tr>\n",
       "      <th>0</th>\n",
       "      <td>Cleveland</td>\n",
       "      <td>48.0</td>\n",
       "      <td>Ohio</td>\n",
       "      <td>-18.1</td>\n",
       "      <td>390113.0</td>\n",
       "      <td>POINT (-81.69436 41.49932)</td>\n",
       "      <td>OH</td>\n",
       "      <td>Cleveland-OH</td>\n",
       "      <td>Cleveland</td>\n",
       "      <td>OH</td>\n",
       "      <td>85</td>\n",
       "      <td>Once a haven for immigrants and a powerhouse o...</td>\n",
       "      <td>6.3</td>\n",
       "      <td>6.1</td>\n",
       "      <td>7.4</td>\n",
       "      <td>1.385577</td>\n",
       "      <td>5.297741</td>\n",
       "      <td>0.022175</td>\n",
       "    </tr>\n",
       "    <tr>\n",
       "      <th>1</th>\n",
       "      <td>Worcester</td>\n",
       "      <td>129.0</td>\n",
       "      <td>Massachusetts</td>\n",
       "      <td>5.8</td>\n",
       "      <td>182544.0</td>\n",
       "      <td>POINT (-71.80229 42.26259)</td>\n",
       "      <td>MA</td>\n",
       "      <td>Worcester-MA</td>\n",
       "      <td>Worcester</td>\n",
       "      <td>MA</td>\n",
       "      <td>62</td>\n",
       "      <td>A vibrant and diverse community nicknamed The ...</td>\n",
       "      <td>6.5</td>\n",
       "      <td>7.0</td>\n",
       "      <td>6.5</td>\n",
       "      <td>1.962580</td>\n",
       "      <td>0.623077</td>\n",
       "      <td>1.373716</td>\n",
       "    </tr>\n",
       "    <tr>\n",
       "      <th>2</th>\n",
       "      <td>Columbia</td>\n",
       "      <td>192.0</td>\n",
       "      <td>South Carolina</td>\n",
       "      <td>11.7</td>\n",
       "      <td>133358.0</td>\n",
       "      <td>POINT (-81.03481 34.00071)</td>\n",
       "      <td>SC</td>\n",
       "      <td>Columbia-SC</td>\n",
       "      <td>Columbia</td>\n",
       "      <td>SC</td>\n",
       "      <td>67</td>\n",
       "      <td>Columbia, South Carolina, is a traditionally S...</td>\n",
       "      <td>6.5</td>\n",
       "      <td>6.1</td>\n",
       "      <td>7.2</td>\n",
       "      <td>1.057882</td>\n",
       "      <td>1.538227</td>\n",
       "      <td>6.822463</td>\n",
       "    </tr>\n",
       "    <tr>\n",
       "      <th>3</th>\n",
       "      <td>Lafayette</td>\n",
       "      <td>214.0</td>\n",
       "      <td>Louisiana</td>\n",
       "      <td>11.0</td>\n",
       "      <td>124276.0</td>\n",
       "      <td>POINT (-92.01984 30.22409)</td>\n",
       "      <td>LA</td>\n",
       "      <td>Lafayette-LA</td>\n",
       "      <td>Lafayette</td>\n",
       "      <td>LA</td>\n",
       "      <td>96</td>\n",
       "      <td>In 2014, Lafayette was named the happiest city...</td>\n",
       "      <td>6.2</td>\n",
       "      <td>5.4</td>\n",
       "      <td>8.1</td>\n",
       "      <td>0.723258</td>\n",
       "      <td>0.407954</td>\n",
       "      <td>1.439853</td>\n",
       "    </tr>\n",
       "    <tr>\n",
       "      <th>4</th>\n",
       "      <td>Boise City</td>\n",
       "      <td>98.0</td>\n",
       "      <td>Idaho</td>\n",
       "      <td>9.5</td>\n",
       "      <td>214237.0</td>\n",
       "      <td>POINT (-116.21461 43.61871)</td>\n",
       "      <td>ID</td>\n",
       "      <td>Boise City-ID</td>\n",
       "      <td>Boise City</td>\n",
       "      <td>ID</td>\n",
       "      <td>17</td>\n",
       "      <td>Boise is a recreationalist's paradise. If you ...</td>\n",
       "      <td>7.1</td>\n",
       "      <td>7.2</td>\n",
       "      <td>7.1</td>\n",
       "      <td>0.386370</td>\n",
       "      <td>7.195404</td>\n",
       "      <td>2.419178</td>\n",
       "    </tr>\n",
       "  </tbody>\n",
       "</table>\n",
       "</div>"
      ],
      "text/plain": [
       "         city   rank           state  growth_from_2000_to_2013  population  \\\n",
       "0   Cleveland   48.0            Ohio                     -18.1    390113.0   \n",
       "1   Worcester  129.0   Massachusetts                       5.8    182544.0   \n",
       "2    Columbia  192.0  South Carolina                      11.7    133358.0   \n",
       "3   Lafayette  214.0       Louisiana                      11.0    124276.0   \n",
       "4  Boise City   98.0           Idaho                       9.5    214237.0   \n",
       "\n",
       "                      geometry state_code       city_key        City State  \\\n",
       "0   POINT (-81.69436 41.49932)         OH   Cleveland-OH   Cleveland    OH   \n",
       "1   POINT (-71.80229 42.26259)         MA   Worcester-MA   Worcester    MA   \n",
       "2   POINT (-81.03481 34.00071)         SC    Columbia-SC    Columbia    SC   \n",
       "3   POINT (-92.01984 30.22409)         LA   Lafayette-LA   Lafayette    LA   \n",
       "4  POINT (-116.21461 43.61871)         ID  Boise City-ID  Boise City    ID   \n",
       "\n",
       "   US News Rank                                               Text  \\\n",
       "0            85  Once a haven for immigrants and a powerhouse o...   \n",
       "1            62  A vibrant and diverse community nicknamed The ...   \n",
       "2            67  Columbia, South Carolina, is a traditionally S...   \n",
       "3            96  In 2014, Lafayette was named the happiest city...   \n",
       "4            17  Boise is a recreationalist's paradise. If you ...   \n",
       "\n",
       "   Overall Score  Quality of Life  Value  min_dist_to_rivers  \\\n",
       "0            6.3              6.1    7.4            1.385577   \n",
       "1            6.5              7.0    6.5            1.962580   \n",
       "2            6.5              6.1    7.2            1.057882   \n",
       "3            6.2              5.4    8.1            0.723258   \n",
       "4            7.1              7.2    7.1            0.386370   \n",
       "\n",
       "   min_dist_to_coasts  min_dist_to_lakes  \n",
       "0            5.297741           0.022175  \n",
       "1            0.623077           1.373716  \n",
       "2            1.538227           6.822463  \n",
       "3            0.407954           1.439853  \n",
       "4            7.195404           2.419178  "
      ]
     },
     "execution_count": 27,
     "metadata": {},
     "output_type": "execute_result"
    }
   ],
   "source": [
    "cities_joined.head()"
   ]
  },
  {
   "cell_type": "markdown",
   "metadata": {},
   "source": [
    "#### Make an object for each feature::"
   ]
  },
  {
   "cell_type": "code",
   "execution_count": 28,
   "metadata": {},
   "outputs": [],
   "source": [
    "x_es = cities_joined.geometry.x.tolist()\n",
    "y_es = cities_joined.geometry.y.tolist()\n"
   ]
  },
  {
   "cell_type": "code",
   "execution_count": 29,
   "metadata": {},
   "outputs": [
    {
     "name": "stderr",
     "output_type": "stream",
     "text": [
      "/anaconda3/lib/python3.6/site-packages/ipykernel_launcher.py:1: SettingWithCopyWarning: \n",
      "A value is trying to be set on a copy of a slice from a DataFrame.\n",
      "Try using .loc[row_indexer,col_indexer] = value instead\n",
      "\n",
      "See the caveats in the documentation: https://pandas.pydata.org/pandas-docs/stable/user_guide/indexing.html#returning-a-view-versus-a-copy\n",
      "  \"\"\"Entry point for launching an IPython kernel.\n",
      "/anaconda3/lib/python3.6/site-packages/ipykernel_launcher.py:2: SettingWithCopyWarning: \n",
      "A value is trying to be set on a copy of a slice from a DataFrame.\n",
      "Try using .loc[row_indexer,col_indexer] = value instead\n",
      "\n",
      "See the caveats in the documentation: https://pandas.pydata.org/pandas-docs/stable/user_guide/indexing.html#returning-a-view-versus-a-copy\n",
      "  \n",
      "/anaconda3/lib/python3.6/site-packages/ipykernel_launcher.py:3: SettingWithCopyWarning: \n",
      "A value is trying to be set on a copy of a slice from a DataFrame.\n",
      "Try using .loc[row_indexer,col_indexer] = value instead\n",
      "\n",
      "See the caveats in the documentation: https://pandas.pydata.org/pandas-docs/stable/user_guide/indexing.html#returning-a-view-versus-a-copy\n",
      "  This is separate from the ipykernel package so we can avoid doing imports until\n"
     ]
    }
   ],
   "source": [
    "cities_joined['rivers_scaled'] = (1/cities_joined['min_dist_to_rivers']) * 1000\n",
    "cities_joined['coasts_scaled'] = (1/cities_joined['min_dist_to_coasts']) * 1000\n",
    "cities_joined['lakes_scaled'] = (1/cities_joined['min_dist_to_lakes']) * 1000\n"
   ]
  },
  {
   "cell_type": "code",
   "execution_count": 30,
   "metadata": {},
   "outputs": [
    {
     "data": {
      "text/html": [
       "<div>\n",
       "<style scoped>\n",
       "    .dataframe tbody tr th:only-of-type {\n",
       "        vertical-align: middle;\n",
       "    }\n",
       "\n",
       "    .dataframe tbody tr th {\n",
       "        vertical-align: top;\n",
       "    }\n",
       "\n",
       "    .dataframe thead th {\n",
       "        text-align: right;\n",
       "    }\n",
       "</style>\n",
       "<table border=\"1\" class=\"dataframe\">\n",
       "  <thead>\n",
       "    <tr style=\"text-align: right;\">\n",
       "      <th></th>\n",
       "      <th>city</th>\n",
       "      <th>rank</th>\n",
       "      <th>state</th>\n",
       "      <th>growth_from_2000_to_2013</th>\n",
       "      <th>population</th>\n",
       "      <th>geometry</th>\n",
       "      <th>state_code</th>\n",
       "      <th>city_key</th>\n",
       "      <th>City</th>\n",
       "      <th>State</th>\n",
       "      <th>...</th>\n",
       "      <th>Text</th>\n",
       "      <th>Overall Score</th>\n",
       "      <th>Quality of Life</th>\n",
       "      <th>Value</th>\n",
       "      <th>min_dist_to_rivers</th>\n",
       "      <th>min_dist_to_coasts</th>\n",
       "      <th>min_dist_to_lakes</th>\n",
       "      <th>rivers_scaled</th>\n",
       "      <th>coasts_scaled</th>\n",
       "      <th>lakes_scaled</th>\n",
       "    </tr>\n",
       "  </thead>\n",
       "  <tbody>\n",
       "    <tr>\n",
       "      <th>0</th>\n",
       "      <td>Cleveland</td>\n",
       "      <td>48.0</td>\n",
       "      <td>Ohio</td>\n",
       "      <td>-18.1</td>\n",
       "      <td>390113.0</td>\n",
       "      <td>POINT (-81.69436 41.49932)</td>\n",
       "      <td>OH</td>\n",
       "      <td>Cleveland-OH</td>\n",
       "      <td>Cleveland</td>\n",
       "      <td>OH</td>\n",
       "      <td>...</td>\n",
       "      <td>Once a haven for immigrants and a powerhouse o...</td>\n",
       "      <td>6.3</td>\n",
       "      <td>6.1</td>\n",
       "      <td>7.4</td>\n",
       "      <td>1.385577</td>\n",
       "      <td>5.297741</td>\n",
       "      <td>0.022175</td>\n",
       "      <td>721.721102</td>\n",
       "      <td>188.759703</td>\n",
       "      <td>45096.024049</td>\n",
       "    </tr>\n",
       "    <tr>\n",
       "      <th>1</th>\n",
       "      <td>Worcester</td>\n",
       "      <td>129.0</td>\n",
       "      <td>Massachusetts</td>\n",
       "      <td>5.8</td>\n",
       "      <td>182544.0</td>\n",
       "      <td>POINT (-71.80229 42.26259)</td>\n",
       "      <td>MA</td>\n",
       "      <td>Worcester-MA</td>\n",
       "      <td>Worcester</td>\n",
       "      <td>MA</td>\n",
       "      <td>...</td>\n",
       "      <td>A vibrant and diverse community nicknamed The ...</td>\n",
       "      <td>6.5</td>\n",
       "      <td>7.0</td>\n",
       "      <td>6.5</td>\n",
       "      <td>1.962580</td>\n",
       "      <td>0.623077</td>\n",
       "      <td>1.373716</td>\n",
       "      <td>509.533275</td>\n",
       "      <td>1604.939242</td>\n",
       "      <td>727.952364</td>\n",
       "    </tr>\n",
       "    <tr>\n",
       "      <th>2</th>\n",
       "      <td>Columbia</td>\n",
       "      <td>192.0</td>\n",
       "      <td>South Carolina</td>\n",
       "      <td>11.7</td>\n",
       "      <td>133358.0</td>\n",
       "      <td>POINT (-81.03481 34.00071)</td>\n",
       "      <td>SC</td>\n",
       "      <td>Columbia-SC</td>\n",
       "      <td>Columbia</td>\n",
       "      <td>SC</td>\n",
       "      <td>...</td>\n",
       "      <td>Columbia, South Carolina, is a traditionally S...</td>\n",
       "      <td>6.5</td>\n",
       "      <td>6.1</td>\n",
       "      <td>7.2</td>\n",
       "      <td>1.057882</td>\n",
       "      <td>1.538227</td>\n",
       "      <td>6.822463</td>\n",
       "      <td>945.285376</td>\n",
       "      <td>650.099250</td>\n",
       "      <td>146.574634</td>\n",
       "    </tr>\n",
       "    <tr>\n",
       "      <th>3</th>\n",
       "      <td>Lafayette</td>\n",
       "      <td>214.0</td>\n",
       "      <td>Louisiana</td>\n",
       "      <td>11.0</td>\n",
       "      <td>124276.0</td>\n",
       "      <td>POINT (-92.01984 30.22409)</td>\n",
       "      <td>LA</td>\n",
       "      <td>Lafayette-LA</td>\n",
       "      <td>Lafayette</td>\n",
       "      <td>LA</td>\n",
       "      <td>...</td>\n",
       "      <td>In 2014, Lafayette was named the happiest city...</td>\n",
       "      <td>6.2</td>\n",
       "      <td>5.4</td>\n",
       "      <td>8.1</td>\n",
       "      <td>0.723258</td>\n",
       "      <td>0.407954</td>\n",
       "      <td>1.439853</td>\n",
       "      <td>1382.631572</td>\n",
       "      <td>2451.255445</td>\n",
       "      <td>694.515176</td>\n",
       "    </tr>\n",
       "    <tr>\n",
       "      <th>4</th>\n",
       "      <td>Boise City</td>\n",
       "      <td>98.0</td>\n",
       "      <td>Idaho</td>\n",
       "      <td>9.5</td>\n",
       "      <td>214237.0</td>\n",
       "      <td>POINT (-116.21461 43.61871)</td>\n",
       "      <td>ID</td>\n",
       "      <td>Boise City-ID</td>\n",
       "      <td>Boise City</td>\n",
       "      <td>ID</td>\n",
       "      <td>...</td>\n",
       "      <td>Boise is a recreationalist's paradise. If you ...</td>\n",
       "      <td>7.1</td>\n",
       "      <td>7.2</td>\n",
       "      <td>7.1</td>\n",
       "      <td>0.386370</td>\n",
       "      <td>7.195404</td>\n",
       "      <td>2.419178</td>\n",
       "      <td>2588.190249</td>\n",
       "      <td>138.977594</td>\n",
       "      <td>413.363626</td>\n",
       "    </tr>\n",
       "  </tbody>\n",
       "</table>\n",
       "<p>5 rows × 21 columns</p>\n",
       "</div>"
      ],
      "text/plain": [
       "         city   rank           state  growth_from_2000_to_2013  population  \\\n",
       "0   Cleveland   48.0            Ohio                     -18.1    390113.0   \n",
       "1   Worcester  129.0   Massachusetts                       5.8    182544.0   \n",
       "2    Columbia  192.0  South Carolina                      11.7    133358.0   \n",
       "3   Lafayette  214.0       Louisiana                      11.0    124276.0   \n",
       "4  Boise City   98.0           Idaho                       9.5    214237.0   \n",
       "\n",
       "                      geometry state_code       city_key        City State  \\\n",
       "0   POINT (-81.69436 41.49932)         OH   Cleveland-OH   Cleveland    OH   \n",
       "1   POINT (-71.80229 42.26259)         MA   Worcester-MA   Worcester    MA   \n",
       "2   POINT (-81.03481 34.00071)         SC    Columbia-SC    Columbia    SC   \n",
       "3   POINT (-92.01984 30.22409)         LA   Lafayette-LA   Lafayette    LA   \n",
       "4  POINT (-116.21461 43.61871)         ID  Boise City-ID  Boise City    ID   \n",
       "\n",
       "   ...                                               Text Overall Score  \\\n",
       "0  ...  Once a haven for immigrants and a powerhouse o...           6.3   \n",
       "1  ...  A vibrant and diverse community nicknamed The ...           6.5   \n",
       "2  ...  Columbia, South Carolina, is a traditionally S...           6.5   \n",
       "3  ...  In 2014, Lafayette was named the happiest city...           6.2   \n",
       "4  ...  Boise is a recreationalist's paradise. If you ...           7.1   \n",
       "\n",
       "   Quality of Life  Value  min_dist_to_rivers  min_dist_to_coasts  \\\n",
       "0              6.1    7.4            1.385577            5.297741   \n",
       "1              7.0    6.5            1.962580            0.623077   \n",
       "2              6.1    7.2            1.057882            1.538227   \n",
       "3              5.4    8.1            0.723258            0.407954   \n",
       "4              7.2    7.1            0.386370            7.195404   \n",
       "\n",
       "   min_dist_to_lakes  rivers_scaled  coasts_scaled  lakes_scaled  \n",
       "0           0.022175     721.721102     188.759703  45096.024049  \n",
       "1           1.373716     509.533275    1604.939242    727.952364  \n",
       "2           6.822463     945.285376     650.099250    146.574634  \n",
       "3           1.439853    1382.631572    2451.255445    694.515176  \n",
       "4           2.419178    2588.190249     138.977594    413.363626  \n",
       "\n",
       "[5 rows x 21 columns]"
      ]
     },
     "execution_count": 30,
     "metadata": {},
     "output_type": "execute_result"
    }
   ],
   "source": [
    "cities_joined.head()"
   ]
  },
  {
   "cell_type": "code",
   "execution_count": 31,
   "metadata": {},
   "outputs": [
    {
     "data": {
      "text/plain": [
       "45096.02404867378"
      ]
     },
     "execution_count": 31,
     "metadata": {},
     "output_type": "execute_result"
    }
   ],
   "source": [
    "cities_joined[\"lakes_scaled\"][0]"
   ]
  },
  {
   "cell_type": "code",
   "execution_count": 32,
   "metadata": {},
   "outputs": [],
   "source": [
    "data_rivers = []\n",
    "data_lakes = []\n",
    "data_coasts = []\n",
    "\n",
    "for i in range(len(x_es)):\n",
    "    data_rivers.append([y_es[i],x_es[i],cities_joined[\"rivers_scaled\"][i]])\n",
    "    data_lakes.append([y_es[i],x_es[i],cities_joined[\"lakes_scaled\"][i]])\n",
    "    data_coasts.append([y_es[i],x_es[i],cities_joined[\"coasts_scaled\"][i]])"
   ]
  },
  {
   "cell_type": "code",
   "execution_count": 33,
   "metadata": {},
   "outputs": [
    {
     "data": {
      "text/html": [
       "<div>\n",
       "<style scoped>\n",
       "    .dataframe tbody tr th:only-of-type {\n",
       "        vertical-align: middle;\n",
       "    }\n",
       "\n",
       "    .dataframe tbody tr th {\n",
       "        vertical-align: top;\n",
       "    }\n",
       "\n",
       "    .dataframe thead th {\n",
       "        text-align: right;\n",
       "    }\n",
       "</style>\n",
       "<table border=\"1\" class=\"dataframe\">\n",
       "  <thead>\n",
       "    <tr style=\"text-align: right;\">\n",
       "      <th></th>\n",
       "      <th>city</th>\n",
       "      <th>rank</th>\n",
       "      <th>state</th>\n",
       "      <th>growth_from_2000_to_2013</th>\n",
       "      <th>population</th>\n",
       "      <th>geometry</th>\n",
       "      <th>state_code</th>\n",
       "      <th>city_key</th>\n",
       "      <th>City</th>\n",
       "      <th>State</th>\n",
       "      <th>...</th>\n",
       "      <th>Text</th>\n",
       "      <th>Overall Score</th>\n",
       "      <th>Quality of Life</th>\n",
       "      <th>Value</th>\n",
       "      <th>min_dist_to_rivers</th>\n",
       "      <th>min_dist_to_coasts</th>\n",
       "      <th>min_dist_to_lakes</th>\n",
       "      <th>rivers_scaled</th>\n",
       "      <th>coasts_scaled</th>\n",
       "      <th>lakes_scaled</th>\n",
       "    </tr>\n",
       "  </thead>\n",
       "  <tbody>\n",
       "    <tr>\n",
       "      <th>0</th>\n",
       "      <td>Cleveland</td>\n",
       "      <td>48.0</td>\n",
       "      <td>Ohio</td>\n",
       "      <td>-18.1</td>\n",
       "      <td>390113.0</td>\n",
       "      <td>POINT (-81.69436 41.49932)</td>\n",
       "      <td>OH</td>\n",
       "      <td>Cleveland-OH</td>\n",
       "      <td>Cleveland</td>\n",
       "      <td>OH</td>\n",
       "      <td>...</td>\n",
       "      <td>Once a haven for immigrants and a powerhouse o...</td>\n",
       "      <td>6.3</td>\n",
       "      <td>6.1</td>\n",
       "      <td>7.4</td>\n",
       "      <td>1.385577</td>\n",
       "      <td>5.297741</td>\n",
       "      <td>0.022175</td>\n",
       "      <td>721.721102</td>\n",
       "      <td>188.759703</td>\n",
       "      <td>45096.024049</td>\n",
       "    </tr>\n",
       "    <tr>\n",
       "      <th>1</th>\n",
       "      <td>Worcester</td>\n",
       "      <td>129.0</td>\n",
       "      <td>Massachusetts</td>\n",
       "      <td>5.8</td>\n",
       "      <td>182544.0</td>\n",
       "      <td>POINT (-71.80229 42.26259)</td>\n",
       "      <td>MA</td>\n",
       "      <td>Worcester-MA</td>\n",
       "      <td>Worcester</td>\n",
       "      <td>MA</td>\n",
       "      <td>...</td>\n",
       "      <td>A vibrant and diverse community nicknamed The ...</td>\n",
       "      <td>6.5</td>\n",
       "      <td>7.0</td>\n",
       "      <td>6.5</td>\n",
       "      <td>1.962580</td>\n",
       "      <td>0.623077</td>\n",
       "      <td>1.373716</td>\n",
       "      <td>509.533275</td>\n",
       "      <td>1604.939242</td>\n",
       "      <td>727.952364</td>\n",
       "    </tr>\n",
       "    <tr>\n",
       "      <th>2</th>\n",
       "      <td>Columbia</td>\n",
       "      <td>192.0</td>\n",
       "      <td>South Carolina</td>\n",
       "      <td>11.7</td>\n",
       "      <td>133358.0</td>\n",
       "      <td>POINT (-81.03481 34.00071)</td>\n",
       "      <td>SC</td>\n",
       "      <td>Columbia-SC</td>\n",
       "      <td>Columbia</td>\n",
       "      <td>SC</td>\n",
       "      <td>...</td>\n",
       "      <td>Columbia, South Carolina, is a traditionally S...</td>\n",
       "      <td>6.5</td>\n",
       "      <td>6.1</td>\n",
       "      <td>7.2</td>\n",
       "      <td>1.057882</td>\n",
       "      <td>1.538227</td>\n",
       "      <td>6.822463</td>\n",
       "      <td>945.285376</td>\n",
       "      <td>650.099250</td>\n",
       "      <td>146.574634</td>\n",
       "    </tr>\n",
       "    <tr>\n",
       "      <th>3</th>\n",
       "      <td>Lafayette</td>\n",
       "      <td>214.0</td>\n",
       "      <td>Louisiana</td>\n",
       "      <td>11.0</td>\n",
       "      <td>124276.0</td>\n",
       "      <td>POINT (-92.01984 30.22409)</td>\n",
       "      <td>LA</td>\n",
       "      <td>Lafayette-LA</td>\n",
       "      <td>Lafayette</td>\n",
       "      <td>LA</td>\n",
       "      <td>...</td>\n",
       "      <td>In 2014, Lafayette was named the happiest city...</td>\n",
       "      <td>6.2</td>\n",
       "      <td>5.4</td>\n",
       "      <td>8.1</td>\n",
       "      <td>0.723258</td>\n",
       "      <td>0.407954</td>\n",
       "      <td>1.439853</td>\n",
       "      <td>1382.631572</td>\n",
       "      <td>2451.255445</td>\n",
       "      <td>694.515176</td>\n",
       "    </tr>\n",
       "    <tr>\n",
       "      <th>4</th>\n",
       "      <td>Boise City</td>\n",
       "      <td>98.0</td>\n",
       "      <td>Idaho</td>\n",
       "      <td>9.5</td>\n",
       "      <td>214237.0</td>\n",
       "      <td>POINT (-116.21461 43.61871)</td>\n",
       "      <td>ID</td>\n",
       "      <td>Boise City-ID</td>\n",
       "      <td>Boise City</td>\n",
       "      <td>ID</td>\n",
       "      <td>...</td>\n",
       "      <td>Boise is a recreationalist's paradise. If you ...</td>\n",
       "      <td>7.1</td>\n",
       "      <td>7.2</td>\n",
       "      <td>7.1</td>\n",
       "      <td>0.386370</td>\n",
       "      <td>7.195404</td>\n",
       "      <td>2.419178</td>\n",
       "      <td>2588.190249</td>\n",
       "      <td>138.977594</td>\n",
       "      <td>413.363626</td>\n",
       "    </tr>\n",
       "  </tbody>\n",
       "</table>\n",
       "<p>5 rows × 21 columns</p>\n",
       "</div>"
      ],
      "text/plain": [
       "         city   rank           state  growth_from_2000_to_2013  population  \\\n",
       "0   Cleveland   48.0            Ohio                     -18.1    390113.0   \n",
       "1   Worcester  129.0   Massachusetts                       5.8    182544.0   \n",
       "2    Columbia  192.0  South Carolina                      11.7    133358.0   \n",
       "3   Lafayette  214.0       Louisiana                      11.0    124276.0   \n",
       "4  Boise City   98.0           Idaho                       9.5    214237.0   \n",
       "\n",
       "                      geometry state_code       city_key        City State  \\\n",
       "0   POINT (-81.69436 41.49932)         OH   Cleveland-OH   Cleveland    OH   \n",
       "1   POINT (-71.80229 42.26259)         MA   Worcester-MA   Worcester    MA   \n",
       "2   POINT (-81.03481 34.00071)         SC    Columbia-SC    Columbia    SC   \n",
       "3   POINT (-92.01984 30.22409)         LA   Lafayette-LA   Lafayette    LA   \n",
       "4  POINT (-116.21461 43.61871)         ID  Boise City-ID  Boise City    ID   \n",
       "\n",
       "   ...                                               Text Overall Score  \\\n",
       "0  ...  Once a haven for immigrants and a powerhouse o...           6.3   \n",
       "1  ...  A vibrant and diverse community nicknamed The ...           6.5   \n",
       "2  ...  Columbia, South Carolina, is a traditionally S...           6.5   \n",
       "3  ...  In 2014, Lafayette was named the happiest city...           6.2   \n",
       "4  ...  Boise is a recreationalist's paradise. If you ...           7.1   \n",
       "\n",
       "   Quality of Life  Value  min_dist_to_rivers  min_dist_to_coasts  \\\n",
       "0              6.1    7.4            1.385577            5.297741   \n",
       "1              7.0    6.5            1.962580            0.623077   \n",
       "2              6.1    7.2            1.057882            1.538227   \n",
       "3              5.4    8.1            0.723258            0.407954   \n",
       "4              7.2    7.1            0.386370            7.195404   \n",
       "\n",
       "   min_dist_to_lakes  rivers_scaled  coasts_scaled  lakes_scaled  \n",
       "0           0.022175     721.721102     188.759703  45096.024049  \n",
       "1           1.373716     509.533275    1604.939242    727.952364  \n",
       "2           6.822463     945.285376     650.099250    146.574634  \n",
       "3           1.439853    1382.631572    2451.255445    694.515176  \n",
       "4           2.419178    2588.190249     138.977594    413.363626  \n",
       "\n",
       "[5 rows x 21 columns]"
      ]
     },
     "execution_count": 33,
     "metadata": {},
     "output_type": "execute_result"
    }
   ],
   "source": [
    "cities_joined.head()"
   ]
  },
  {
   "cell_type": "markdown",
   "metadata": {},
   "source": [
    "### Plot Map"
   ]
  },
  {
   "cell_type": "code",
   "execution_count": 34,
   "metadata": {
    "scrolled": false
   },
   "outputs": [
    {
     "data": {
      "application/vnd.jupyter.widget-view+json": {
       "model_id": "f030c91b168a4c659880a54ca831d81c",
       "version_major": 2,
       "version_minor": 0
      },
      "text/plain": [
       "Map(center=[38, -90], controls=(ZoomControl(options=['position', 'zoom_in_text', 'zoom_in_title', 'zoom_out_te…"
      ]
     },
     "metadata": {},
     "output_type": "display_data"
    }
   ],
   "source": [
    "#Map:\n",
    "m = Map(center = (38,-90), zoom = 4, basemap = basemaps.Esri.WorldTopoMap, scroll_wheel_zoom = True)\n",
    "\n",
    "#Screen Controls:\n",
    "full_screen_control = FullScreenControl(position = \"topright\")\n",
    "m.add_control(full_screen_control)\n",
    "m.add_control(ScaleControl(position='bottomleft'))\n",
    "m.add_control(LayersControl(position = \"bottomright\"))\n",
    "\n",
    "draw_control = DrawControl()\n",
    "draw_control.polyline =  {\n",
    "    \"shapeOptions\": {\n",
    "        \"color\": \"#66ff33\",\n",
    "        \"weight\": 8,\n",
    "        \"opacity\": 1.0\n",
    "    }\n",
    "}\n",
    "draw_control.polygon = {\n",
    "    \"shapeOptions\": {\n",
    "        \"fillColor\": \"#66ff33\",\n",
    "        \"color\": \"#66ff33\",\n",
    "        \"fillOpacity\": 1.0\n",
    "    },\n",
    "    \"drawError\": {\n",
    "        \"color\": \"#ff0000\",\n",
    "        \"message\": \"Oops!\"\n",
    "    },\n",
    "    \"allowIntersection\": False\n",
    "}\n",
    "m.add_control(draw_control)\n",
    "\n",
    "\n",
    "cities_joined_data = GeoData(geo_dataframe = cities_joined,\n",
    "                   style = {'color': '#ff0000', 'fillColor': '#3366cc', 'opacity':0.05, 'weight':1.9, 'dashArray':'2', 'fillOpacity':0.6},\n",
    "                   name = '125 \"Best\" Cities')\n",
    "m.add_layer(cities_joined_data)\n",
    "\n",
    "rivers_data = GeoData(geo_dataframe = rivers,\n",
    "                   style = {'color': '#b3d1ff', 'opacity':3, 'weight':5, 'dashArray':'2', 'fillOpacity':0.6},\n",
    "                   name = 'Rivers')\n",
    "m.add_layer(rivers_data)\n",
    "\n",
    "lakes_data = GeoData(geo_dataframe = lakes,\n",
    "                   style = {'color': '#b3d1ff', 'opacity':3, 'weight':2, 'dashArray':'2', 'fillOpacity':0.6},\n",
    "                   name = 'Lakes')\n",
    "m.add_layer(lakes_data)\n",
    "\n",
    "airport_data = GeoData(geo_dataframe = airport,\n",
    "                   style = {'color': 'black', 'fillColor': '#3366cc', 'opacity':0.05, 'weight':1.9, 'dashArray':'2', 'fillOpacity':0.6},\n",
    "                   hover_style={'fillColor': 'red' , 'fillOpacity': 0.2},\n",
    "                   name = 'Cities')\n",
    "#m.add_layer(airport_data)\n",
    "\n",
    "coastline_data = GeoData(geo_dataframe = coastline,\n",
    "                   style = {'color': '#0066ff', 'fillColor': '#b3d1ff', 'opacity':0.5, 'weight':10, 'dashArray':'2', 'fillOpacity':0.6},\n",
    "                   name = 'Coastline')\n",
    "m.add_layer(coastline_data)\n",
    "\n",
    "\n",
    "m"
   ]
  },
  {
   "cell_type": "markdown",
   "metadata": {},
   "source": [
    "Here we can see the rivers, lakes, and coasts layers as well as the top places to live in the US!"
   ]
  },
  {
   "cell_type": "markdown",
   "metadata": {},
   "source": [
    "#### And now, widgets!"
   ]
  },
  {
   "cell_type": "code",
   "execution_count": 35,
   "metadata": {},
   "outputs": [
    {
     "data": {
      "application/vnd.jupyter.widget-view+json": {
       "model_id": "309d1cc8d1f344d79f732146c28f362a",
       "version_major": 2,
       "version_minor": 0
      },
      "text/plain": [
       "HBox(children=(interactive(children=(IntSlider(value=50, description='Smoothing', min=5, step=5), Output()), _…"
      ]
     },
     "metadata": {},
     "output_type": "display_data"
    },
    {
     "data": {
      "application/vnd.jupyter.widget-view+json": {
       "model_id": "8b51358288b0497093e5aabfafb6d432",
       "version_major": 2,
       "version_minor": 0
      },
      "text/plain": [
       "HBox(children=(interactive(children=(IntSlider(value=50, description='Rivers', min=5, step=5), Output()), _dom…"
      ]
     },
     "metadata": {},
     "output_type": "display_data"
    },
    {
     "data": {
      "application/vnd.jupyter.widget-view+json": {
       "model_id": "f030c91b168a4c659880a54ca831d81c",
       "version_major": 2,
       "version_minor": 0
      },
      "text/plain": [
       "Map(center=[38, -90], controls=(ZoomControl(options=['position', 'zoom_in_text', 'zoom_in_title', 'zoom_out_te…"
      ]
     },
     "metadata": {},
     "output_type": "display_data"
    }
   ],
   "source": [
    "# https://ipywidgets.readthedocs.io/en/stable/examples/Using%20Interact.html\n",
    "from IPython.display import display\n",
    "import ipywidgets as widgets\n",
    "\n",
    "\n",
    "from __future__ import print_function\n",
    "from ipywidgets import interact, interactive, fixed, interact_manual\n",
    "import ipywidgets as widgets\n",
    "\n",
    "\n",
    "rheat = Heatmap(locations=data_rivers)\n",
    "rheat.name = 'Rivers Heat map'\n",
    "rheat.radius = 50\n",
    "rheat.blur = 50\n",
    "rheat.max = 0.0001\n",
    "rheat.max = .5\n",
    "#rheat.max_zoom = 4\n",
    "rheat.gradient = {0.2: '#ffeee6', 0.4: '#ffddcc', 0.6: '#ffccb3', 0.8: '#ffbb99', 1.0: '#ffaa80'}\n",
    "m.add_layer(rheat)\n",
    "\n",
    "\n",
    "\n",
    "lheat = Heatmap(locations=data_lakes)\n",
    "lheat.name = 'Lakes Heat Map'\n",
    "lheat.radius = 50\n",
    "lheat.blur = 50\n",
    "lheat.max = 0.0001\n",
    "lheat.max = .5\n",
    "#lheat.max_zoom = 4\n",
    "lheat.gradient = {0.2: '#ffeee6', 0.4: '#ffddcc', 0.6: '#ffccb3', 0.8: '#ffbb99', 1.0: '#ffaa80'}\n",
    "m.add_layer(lheat)\n",
    "\n",
    "\n",
    "cheat = Heatmap(locations=data_coasts)\n",
    "cheat.name = 'Coasts Heat Map'\n",
    "cheat.radius = 50\n",
    "cheat.blur = 50\n",
    "cheat.max = 0.0001\n",
    "cheat.max = .5\n",
    "#cheat.max_zoom = 4\n",
    "cheat.gradient = {0.2: '#ffeee6', 0.4: '#ffddcc', 0.6: '#ffccb3', 0.8: '#ffbb99', 1.0: '#ffaa80'}\n",
    "m.add_layer(cheat)\n",
    "\n",
    "def f(Smoothing):\n",
    "    if Smoothing == 0:\n",
    "        Smoothing = 0.0001\n",
    "    rheat.blur = Smoothing\n",
    "    lheat.blur = Smoothing\n",
    "    cheat.blur = Smoothing\n",
    "b = interactive(f, Smoothing=widgets.IntSlider(min=5, max=100, step=5, value=50));\n",
    "\n",
    "\n",
    "\n",
    "\n",
    "def f(Rivers):\n",
    "    rheat.radius = Rivers\n",
    "R = interactive(f, Rivers=widgets.IntSlider(min=5, max=100, step=5, value=50));\n",
    "\n",
    "def f(Lakes):\n",
    "    lheat.radius = Lakes        \n",
    "L = interactive(f, Lakes=widgets.IntSlider(min=5, max=100, step=5, value=50));\n",
    "\n",
    "def f(Coasts):\n",
    "    cheat.radius = Coasts    \n",
    "C = interactive(f, Coasts=widgets.IntSlider(min=5, max=100, step=5, value=50));\n",
    "\n",
    "\n",
    "ui = widgets.HBox([b])\n",
    "features = widgets.HBox([R, L, C])\n",
    "\n",
    "display(ui, features)\n",
    "\n",
    "m"
   ]
  },
  {
   "cell_type": "markdown",
   "metadata": {},
   "source": [
    "We can mix and max layers, combined with slider values to emphasize each city's proximity to rivers, lakes, and coasts! The smoothing slider effects how drastic the sensitivity is! Orange represents high proximity to desired features."
   ]
  }
 ],
 "metadata": {
  "kernelspec": {
   "display_name": "Python 3",
   "language": "python",
   "name": "python3"
  },
  "language_info": {
   "codemirror_mode": {
    "name": "ipython",
    "version": 3
   },
   "file_extension": ".py",
   "mimetype": "text/x-python",
   "name": "python",
   "nbconvert_exporter": "python",
   "pygments_lexer": "ipython3",
   "version": "3.6.6"
  }
 },
 "nbformat": 4,
 "nbformat_minor": 2
}
